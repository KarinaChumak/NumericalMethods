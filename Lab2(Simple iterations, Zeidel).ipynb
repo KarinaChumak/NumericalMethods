{
 "cells": [
  {
   "cell_type": "code",
   "execution_count": 2,
   "metadata": {
    "collapsed": true
   },
   "outputs": [],
   "source": [
    "import numpy as np\n",
    "import numpy.linalg as linalg\n",
    "import math\n",
    "from copy import deepcopy\n",
    "maxiter = 10"
   ]
  },
  {
   "cell_type": "code",
   "execution_count": 3,
   "metadata": {
    "collapsed": true
   },
   "outputs": [],
   "source": [
    "# допоміжна функція для виводу матриці\n",
    "def print_matrix(A, text):\n",
    "    '''As argument takes matrix and text you want to ouput\n",
    "    with matrix'''\n",
    "    n,m = np.shape(A)\n",
    "    print(text)\n",
    "    for i in range(0,n):\n",
    "        for j in range(0,m):\n",
    "            print('{:>6}'.format(round(A[i,j], 3)), end = ' ')\n",
    "        print()\n",
    "# допоміжна функція для виводу вектора\n",
    "def print_vector(b, text):\n",
    "    '''As argument takes matrix and text you want to ouput\n",
    "    with matrix'''\n",
    "    n=len(b)\n",
    "    print(text)\n",
    "    for i in range(0,n):\n",
    "        print('{:>6}'.format(round(b[i], 3),''))\n",
    "        \n"
   ]
  },
  {
   "cell_type": "code",
   "execution_count": 4,
   "metadata": {
    "collapsed": true
   },
   "outputs": [],
   "source": [
    "def buildMatrixBandC(A,b):\n",
    "    n = np.shape(A)[0]\n",
    "    I = np.eye(n,n)\n",
    "    B = np.zeros((n,n))\n",
    "    c = np.zeros((n,1))\n",
    "    for i in range(0,n):\n",
    "        if A[i,i] >= 0:\n",
    "            B[i] = (I[i] - A[i])\n",
    "            c[i] = b[i]\n",
    "        else :\n",
    "            B[i] = I[i] + A[i]\n",
    "            c[i] =-b[i]\n",
    "    return B,c"
   ]
  },
  {
   "cell_type": "markdown",
   "metadata": {},
   "source": [
    "# Метод простих ітерацій"
   ]
  },
  {
   "cell_type": "markdown",
   "metadata": {},
   "source": [
    "Систему лінійних алгебраїчних рівнянь $Ax = b$ перетворимо у еквівалентну систему $x = Bx +c$, де х - той самий вектор невідомих, а В і с - деякі нові матриця і вектор відповідно. Складаємо ітераційну послідовність $$x^{(k+1)} = Bx^{(k)} , k = 0,1,2,...$$ яка починається з деякого вектора $x^{(0)} = (x_1^{(0)}, x_2^{(0)},...,x_n^{(0)})$. Ітераційний процес, який визначається цими формулами назівається **методом простих ітерацій**"
   ]
  },
  {
   "cell_type": "markdown",
   "metadata": {},
   "source": [
    "### Збіжність методу простих ітерацій\n",
    "Метод простих ітрацій збігається при довільному початковому векторі $x^{(0)}$ до розв'язку системи $x^*$ тоді і тільки тоді, коли всі власні значення $\\lambda_b$ матриці В за модулем менше одиниці.\n",
    "\n",
    "**Теорема** Нехай $\\|B\\| \\leq q < 1$. Тоді при довільному початковому векторі $x^{(0)}$ МПІ збігається до єдиного розв'язку $x^*$ задачі про нерухому точку для всіх $k \\in N$ і є справедливими оцінки похібки :\n",
    "_апостеріорна_ $$\\|x^* - x^{(k)}\\| \\leq \\frac{q}{1-q}\\|x^{(k)} - x^{(k-1)}\\|$$\n",
    "_апріорна_ $$\\|x^* - x^{(k)}\\| \\leq \\frac{q^k}{1-q}\\|x^{(1)} - x^{(0)}\\|$$"
   ]
  },
  {
   "cell_type": "code",
   "execution_count": 46,
   "metadata": {
    "collapsed": true
   },
   "outputs": [],
   "source": [
    "def SimpleIteratons(A,b,eps):\n",
    "\n",
    "    maxB = 1\n",
    "    n = np.shape(A)[0]\n",
    "    B,c = buildMatrixBandC(A,b)\n",
    "    q = linalg.norm(B)\n",
    "    x_curr = np.zeros(n)\n",
    "    x_next = c\n",
    "    cnt = 0\n",
    "    delta = 1\n",
    "    apriori = estimateApriori(B,c,eps)\n",
    "    if apriori > 0:\n",
    "        print(\"Попередня оцінка достатньої кількості операцій: {}\".format(apriori))\n",
    "    else :\n",
    "        print(\"Вимога до малості норми матриці не виконана, процес може розходитись\")\n",
    "    while ( delta > (1-q)/q*eps) and (cnt< maxiter):\n",
    "        cnt += 1\n",
    "        x_curr = x_next\n",
    "        x_next = np.dot(B,x_curr) + c\n",
    "        print_matrix(x_next,\"Значення на {} ітерації\".format(cnt))\n",
    "        delta = linalg.norm(x_next - x_curr)\n",
    "        print(\"Похибка наближення {}\".format(delta))\n",
    "\n",
    "    if (cnt == maxiter):\n",
    "        err = linalg.norm(x_next - x_curr)\n",
    "        if (err > linalg.norm(c)):\n",
    "            print(\"Ітераційний процес розходиться\")\n",
    "            return\n",
    "        else:\n",
    "            print(\"Виконано {} ітерацій,апостеріорна оцінка похибки :{}\".format(cnt,err))\n",
    "        \n",
    "    \n",
    "    return x_next\n",
    "\n"
   ]
  },
  {
   "cell_type": "markdown",
   "metadata": {},
   "source": [
    "# Метод Якобі\n",
    "Представимо матрицю А у вигляді $A = L + D + R $, де  D - діагональна. L і R - відповідно діва та права строго трикутні матриці. Тоді система $Ax = b$ запишеться у вигляді $Lx +Dx +Rx = b$.\n",
    "$$x^{(k+1)} = - D^{-1}(L+R)x^{(k)} + D^{-1}b, k = 0,1,2...$$\n",
    "Оберненою до діагональної матриці є матриця з елементами $\\frac{1}{a_{ii}}$ на діагоналі.Тому це представлення рівнозначне вираженнб діагональних невідомих через інші:\n",
    "$$\\begin{cases} x_1^{(k+1)} = - (a_{12}x_2^{(k)} + a_{13}x_3^{(k)}  + ... + a_{1n}x_n^{(k)}  - b_1)/a_{11} \\\\ x_2^{(k+1)} = - (a_{21}x_1^{(k)}  + a_{23}x_3^{(k)}  + ... + a_{2n}x_n^{(k)}  - b_2)/a_{22}\\\\ ..........................................\\\\x_n^{(k+1)} = - (a_{n1}x_1^{(k)}  + a_{n2}x_2 ^{(k)} + ... + a_{n,n-1}x_{n-1}^{(k)}  - b_n)/a_{nn}  \\end{cases}$$\n",
    "Метод Якобі збігається,якщо виконується умова діагонального домінування."
   ]
  },
  {
   "cell_type": "code",
   "execution_count": 70,
   "metadata": {
    "collapsed": true
   },
   "outputs": [],
   "source": [
    "def SimpleIteratonsJacobi(A,b,eps):\n",
    "    n = np.shape(A)[0]\n",
    "    q = 0.5\n",
    "    cnt  = 0\n",
    "    x_curr = np.zeros(n)\n",
    "    x_next = np.zeros(n)\n",
    "    tostop = False\n",
    "    apriori = estimateApriori(A,b,eps)\n",
    "\n",
    "    while not tostop:\n",
    "        cnt += 1\n",
    "\n",
    "        x_curr = deepcopy(x_next)\n",
    "        for i in range(0,n):\n",
    "            sum = 0;\n",
    "            for j in range (0,n):\n",
    "                \n",
    "                if i!= j:\n",
    "                    sum += A[i,j]*x_curr[j]\n",
    "            x_next[i] = 1/A[i,i]*(b[i] - sum)\n",
    "        print_vector(x_next,\"Значення на {} ітерації\".format(cnt))\n",
    "        delta = linalg.norm(x_next - x_curr)\n",
    "        print(\"Похибка наближення {}\".format(delta))\n",
    "\n",
    "        \n",
    "        if (linalg.norm(x_next - x_curr) < eps) or (cnt == maxiter):\n",
    "\n",
    "            tostop = True\n",
    "    if (cnt == maxiter):\n",
    "        err = linalg.norm(x_next - x_curr)\n",
    "        if (err > linalg.norm(b)):\n",
    "            print(\"Ітераційний процес розходиться\")\n",
    "            return\n",
    "        else:\n",
    "                print(\"Виконано {} ітерацій,апостеріорна оцінка похибки :{}\".format(cnt,err))    \n",
    "    return x_next"
   ]
  },
  {
   "cell_type": "markdown",
   "metadata": {},
   "source": [
    "# Метод Зейделя\n",
    "Це модифікація методу простих ітерацій, в якій при обчисленні i-ї координати (k+1)-го наближення до шуканого вектора $x^*$ використовують уже знайдені на цій ітерації i-1 компонент.\n",
    "\n",
    "$$\\begin{cases}\n",
    "x_1^{(k+1)} = - (a_{12}x_2^{(k)} + a_{13}x_3^{(k)}  + ... + a_{1n}x_n^{(k)}  - b_1)/a_{11} \\\\\n",
    "x_2^{(k+1)} = - (a_{21}x_1^{(k+1)}  + a_{23}x_3^{(k)}  + ... + a_{2n}x_n^{(k)}  - b_2)/a_{22}\\\\ ..........................................\\\\\n",
    "x_n^{(k+1)} = - (a_{n1}x_1^{(k+1)}  + a_{n2}x_2 ^{(k+1)} + ... + a_{n,n-1}x_{n-1}^{(k+1)}  - b_n)/a_{nn}  \\end{cases}$$"
   ]
  },
  {
   "cell_type": "code",
   "execution_count": 71,
   "metadata": {
    "collapsed": true
   },
   "outputs": [],
   "source": [
    "def SimpleIteratonsZeidel(A,b,eps):\n",
    "    n = np.shape(A)[0]\n",
    "    q = 0.5\n",
    "    cnt  = 0\n",
    "    x_curr = np.zeros(n)\n",
    "    x_next = np.zeros(n)\n",
    "    tostop = False\n",
    "\n",
    "    while not tostop:\n",
    "        cnt += 1\n",
    "        x_curr = deepcopy(x_next)\n",
    "        for i in range(0,n):\n",
    "            sum = 0;\n",
    "            for j in range (0,n):\n",
    "                if i > j:\n",
    "                    sum += A[i,j]*x_next[j]\n",
    "                elif i < j:\n",
    "                    sum += A[i,j]*x_curr[j]\n",
    "            x_next[i] = 1/A[i,i]*(b[i] - sum)\n",
    "        print_vector(x_next,\"Значення на {} ітерації\".format(cnt))\n",
    "        delta = linalg.norm(x_next - x_curr)\n",
    "        print(\"Похибка наближення {}\".format(delta))\n",
    "        if (linalg.norm(x_next - x_curr) < eps) or (cnt == maxiter):\n",
    "            tostop = True\n",
    "    if (cnt == maxiter):\n",
    "        err = linalg.norm(x_next - x_curr)\n",
    "        if (err > linalg.norm(b)):\n",
    "            print(\"Ітераційний процес розходиться\")\n",
    "            return\n",
    "        else:\n",
    "                print(\"Виконано {} ітерацій,апостеріорна оцінка похибки :{}\".format(cnt,err))        \n",
    "    return x_next"
   ]
  },
  {
   "cell_type": "code",
   "execution_count": 72,
   "metadata": {
    "collapsed": true
   },
   "outputs": [],
   "source": [
    "def estimateApriori(B,c, eps):\n",
    "    math.log(0.001/2.3,0.5)\n",
    "    c_norm = linalg.norm(c)\n",
    "    B_norm = linalg.norm(B)\n",
    "    return math.ceil(math.log(eps/c_norm,B_norm)) + 1"
   ]
  },
  {
   "cell_type": "markdown",
   "metadata": {},
   "source": [
    "Перевіримо роботу програми"
   ]
  },
  {
   "cell_type": "code",
   "execution_count": 89,
   "metadata": {
    "collapsed": true
   },
   "outputs": [],
   "source": [
    "A = np.matrix([ [1.1,  -0.2,0.1],\n",
    "               [0.1,-1.2,-0.2],\n",
    "               [0.2,-0.1,1.1]])\n",
    "b = np.matrix([1.6,2.3,1.5]).T\n",
    "\n",
    "A1 = np.matrix([ [7.8,  5.3,4.8],\n",
    "               [3.3,1.1,1.8],\n",
    "               [4.5,3.3,2.8]])\n",
    "b1 = np.matrix([1.8,2.3,3.4]).T"
   ]
  },
  {
   "cell_type": "code",
   "execution_count": 91,
   "metadata": {},
   "outputs": [
    {
     "name": "stdout",
     "output_type": "stream",
     "text": [
      "Вимога до малості норми матриці не виконана, процес може розходитись\n",
      "Значення на 1 ітерації\n",
      "-38.95 \n",
      " -9.99 \n",
      "-18.41 \n",
      "Похибка наближення 47.82554442972918\n",
      "Значення на 2 ітерації\n",
      "407.975 \n",
      "164.972 \n",
      "244.78 \n",
      "Похибка наближення 547.3779618956174\n",
      "Значення на 3 ітерації\n",
      "-4821.726 \n",
      "-1801.119 \n",
      "-2817.499 \n",
      "Похибка наближення 6371.2506066363185\n",
      "Значення на 4 ітерації\n",
      "55859.459 \n",
      "21165.605 \n",
      "32716.355 \n",
      "Похибка наближення 73975.2076144569\n",
      "Значення на 5 ітерації\n",
      "-649058.731 \n",
      "-245339.914 \n",
      "-380100.1 \n",
      "Похибка наближення 859274.2702692258\n",
      "Значення на 6 ітерації\n",
      "7538383.195 \n",
      "2850610.283 \n",
      "4414569.586 \n",
      "Похибка наближення 9980379.266803829\n",
      "Значення на 7 ітерації\n",
      "-87559172.438 \n",
      "-33107948.526 \n",
      "-51275960.166 \n",
      "Похибка наближення 115922379.82005504\n",
      "Значення на 8 ітерації\n",
      "1016999110.368 \n",
      "384552794.498 \n",
      "595569237.808 \n",
      "Похибка наближення 1346439083.851471\n",
      "Значення на 9 ітерації\n",
      "-11812456101.024 \n",
      "-4466576969.42 \n",
      "-6917544843.155 \n",
      "Похибка наближення 15638902269.694328\n",
      "Значення на 10 ітерації\n",
      "137201774673.83 \n",
      "51879343550.3 \n",
      "80347337174.771 \n",
      "Похибка наближення 181645983622.6456\n",
      "Ітераційний процес розходиться\n"
     ]
    }
   ],
   "source": [
    "x = SimpleIteratons(A1,b1,0.001)"
   ]
  },
  {
   "cell_type": "code",
   "execution_count": 11,
   "metadata": {},
   "outputs": [
    {
     "name": "stdout",
     "output_type": "stream",
     "text": [
      "Нев'язка першої системи:\n",
      "   0.0 \n",
      "   0.0 \n",
      "   0.0 \n"
     ]
    }
   ],
   "source": [
    "r = np.dot(A,x) - b\n",
    "print_matrix(r,\"Нев'язка першої системи:\")"
   ]
  },
  {
   "cell_type": "code",
   "execution_count": 76,
   "metadata": {},
   "outputs": [
    {
     "name": "stdout",
     "output_type": "stream",
     "text": [
      "Значення на 1 ітерації\n",
      " 1.455\n",
      "-1.795\n",
      " 0.936\n",
      "Похибка наближення 2.493062911389281\n",
      "Значення на 2 ітерації\n",
      " 1.043\n",
      "-1.986\n",
      " 0.993\n",
      "Похибка наближення 0.45703077370451317\n",
      "Значення на 3 ітерації\n",
      " 1.003\n",
      "-1.999\n",
      "   1.0\n",
      "Похибка наближення 0.04230357111843943\n",
      "Значення на 4 ітерації\n",
      "   1.0\n",
      "  -2.0\n",
      "   1.0\n",
      "Похибка наближення 0.0031843689301927604\n",
      "Значення на 5 ітерації\n",
      "   1.0\n",
      "  -2.0\n",
      "   1.0\n",
      "Похибка наближення 0.0002833325256964141\n"
     ]
    }
   ],
   "source": [
    "res = SimpleIteratonsZeidel(A,b,0.001)"
   ]
  },
  {
   "cell_type": "code",
   "execution_count": 77,
   "metadata": {},
   "outputs": [
    {
     "name": "stdout",
     "output_type": "stream",
     "text": [
      "Значення на 1 ітерації\n",
      " 0.231\n",
      " 2.091\n",
      " 1.214\n",
      "Похибка наближення 2.4289184960048513\n",
      "Значення на 2 ітерації\n",
      "-1.937\n",
      "-0.588\n",
      "-1.621\n",
      "Похибка наближення 4.462861993119961\n",
      "Значення на 3 ітерації\n",
      " 1.628\n",
      "10.555\n",
      " 5.021\n",
      "Похибка наближення 13.453717378257267\n",
      "Значення на 4 ітерації\n",
      "-10.031\n",
      "-11.01\n",
      "-13.842\n",
      "Похибка наближення 30.93201966152142\n",
      "Значення на 5 ітерації\n",
      " 16.23\n",
      "54.835\n",
      "30.311\n",
      "Похибка наближення 83.51450811402346\n",
      "Значення на 6 ітерації\n",
      "-55.682\n",
      "-96.199\n",
      "-89.496\n",
      "Похибка наближення 205.75839027211433\n",
      "Значення на 7 ітерації\n",
      "120.672\n",
      "315.585\n",
      "204.081\n",
      "Похибка наближення 535.5882010389583\n",
      "Значення на 8 ітерації\n",
      "-339.794\n",
      "-693.875\n",
      "-564.662\n",
      "Похибка наближення 1349.8159345279003\n",
      "Значення на 9 ітерації\n",
      "819.194\n",
      "1945.464\n",
      "1365.092\n",
      "Похибка наближення 3468.9064034810403\n",
      "Значення на 10 ітерації\n",
      "-2161.744\n",
      "-4689.278\n",
      "-3608.216\n",
      "Похибка наближення 8811.332522601951\n",
      "Ітераційний процес розходиться\n"
     ]
    }
   ],
   "source": [
    "SimpleIteratonsJacobi(A1,b1,0.001)"
   ]
  },
  {
   "cell_type": "code",
   "execution_count": 30,
   "metadata": {},
   "outputs": [],
   "source": [
    "A2 = np.matrix([ [8.,  2.,-3.],\n",
    "               [2.,10.,5.],\n",
    "               [1.,-1.,16.]])\n",
    "b2 = np.matrix([10.,12.,0.]).T\n",
    "\n",
    "A3 = np.matrix([ [4.,  -1.,2.],\n",
    "               [-1.,4.,2.],\n",
    "               [3.,3.,4.]])\n",
    "b3 = np.matrix([3.,3.,6.]).T"
   ]
  },
  {
   "cell_type": "code",
   "execution_count": 86,
   "metadata": {},
   "outputs": [
    {
     "name": "stdout",
     "output_type": "stream",
     "text": [
      "Значення на 1 ітерації\n",
      "  1.25\n",
      "   1.2\n",
      "   0.0\n",
      "Похибка наближення 1.7327723451163457\n",
      "Значення на 2 ітерації\n",
      "  0.95\n",
      "  0.95\n",
      "-0.003\n",
      "Похибка наближення 0.39052498719672224\n",
      "Значення на 3 ітерації\n",
      " 1.011\n",
      " 1.012\n",
      "   0.0\n",
      "Похибка наближення 0.08695312499999987\n",
      "Значення на 4 ітерації\n",
      " 0.997\n",
      " 0.998\n",
      "   0.0\n",
      "Похибка наближення 0.019834064312561957\n",
      "Значення на 5 ітерації\n",
      " 1.001\n",
      " 1.001\n",
      "   0.0\n",
      "Похибка наближення 0.004476045417214398\n",
      "Значення на 6 ітерації\n",
      "   1.0\n",
      "   1.0\n",
      "  -0.0\n",
      "Похибка наближення 0.000994023024315682\n"
     ]
    }
   ],
   "source": [
    "r =SimpleIteratonsJacobi(A2,b2,0.001)"
   ]
  },
  {
   "cell_type": "code",
   "execution_count": 88,
   "metadata": {},
   "outputs": [
    {
     "name": "stdout",
     "output_type": "stream",
     "text": [
      "Значення на 1 ітерації\n",
      "  0.75\n",
      " 0.938\n",
      " 0.234\n",
      "Похибка наближення 1.2232489078781146\n",
      "Значення на 2 ітерації\n",
      " 0.867\n",
      "  0.85\n",
      " 0.212\n",
      "Похибка наближення 0.1481231573448976\n",
      "Значення на 3 ітерації\n",
      " 0.856\n",
      " 0.858\n",
      " 0.214\n",
      "Похибка наближення 0.01388654600108415\n",
      "Значення на 4 ітерації\n",
      " 0.857\n",
      " 0.857\n",
      " 0.214\n",
      "Похибка наближення 0.001301863687601639\n",
      "Значення на 5 ітерації\n",
      " 0.857\n",
      " 0.857\n",
      " 0.214\n",
      "Похибка наближення 0.00012204972071265366\n"
     ]
    }
   ],
   "source": [
    "l = SimpleIteratonsZeidel(A3,b3,0.001)"
   ]
  },
  {
   "cell_type": "code",
   "execution_count": null,
   "metadata": {
    "collapsed": true
   },
   "outputs": [],
   "source": []
  }
 ],
 "metadata": {
  "kernelspec": {
   "display_name": "Python 3",
   "language": "python",
   "name": "python3"
  },
  "language_info": {
   "codemirror_mode": {
    "name": "ipython",
    "version": 3
   },
   "file_extension": ".py",
   "mimetype": "text/x-python",
   "name": "python",
   "nbconvert_exporter": "python",
   "pygments_lexer": "ipython3",
   "version": "3.6.2"
  }
 },
 "nbformat": 4,
 "nbformat_minor": 2
}
